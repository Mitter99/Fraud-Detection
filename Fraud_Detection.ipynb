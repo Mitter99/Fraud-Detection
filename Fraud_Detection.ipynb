{
 "cells": [
  {
   "cell_type": "markdown",
   "metadata": {
    "id": "2g9bZ6B5pZek"
   },
   "source": [
    "-step - maps a unit of time in the real world. In this case 1 step is 1 hour of time. Total steps 744 (30 days simulation).\n",
    "\n",
    "-type - CASH-IN, CASH-OUT, DEBIT, PAYMENT and TRANSFER.\n",
    "\n",
    "-amount - amount of the transaction in local currency.\n",
    "\n",
    "-nameOrig - customer who started the transaction\n",
    "\n",
    "-oldbalanceOrg - initial balance before the transaction\n",
    "\n",
    "-newbalanceOrig - new balance after the transaction\n",
    "\n",
    "-nameDest - customer who is the recipient of the transaction\n",
    "\n",
    "-oldbalanceDest - initial balance recipient before the transaction. Note that there is not information for customers that start with M (Merchants).\n",
    "\n",
    "-newbalanceDest - new balance recipient after the transaction. Note that there is not information for customers that start with M (Merchants).\n",
    "\n",
    "-isFraud - This is the transactions made by the fraudulent agents inside the simulation. In this specific dataset the fraudulent behavior of the agents aims to profit by taking control or customers accounts and try to empty the funds by transferring to another account and then cashing out of the system.\n",
    "\n",
    "-isFlaggedFraud - The business model aims to control massive transfers from one account to another and flags illegal attempts. An illegal attempt in this dataset is an attempt to transfer more than 200.000 in a single transaction."
   ]
  },
  {
   "cell_type": "code",
   "execution_count": 1,
   "metadata": {
    "colab": {
     "base_uri": "https://localhost:8080/"
    },
    "id": "hWC1seEKpZer",
    "outputId": "bc8f1695-cf4a-470b-aab4-f8c873e3b90d"
   },
   "outputs": [
    {
     "name": "stderr",
     "output_type": "stream",
     "text": [
      "/usr/local/lib/python3.7/dist-packages/ipykernel_launcher.py:13: FutureWarning: pandas.util.testing is deprecated. Use the functions in the public API at pandas.testing instead.\n",
      "  del sys.path[0]\n"
     ]
    }
   ],
   "source": [
    "import numpy as np\n",
    "import pandas as pd\n",
    "import seaborn as sns\n",
    "import matplotlib.pyplot as plt\n",
    "\n",
    "from sklearn.metrics import confusion_matrix\n",
    "from sklearn import metrics\n",
    "from sklearn.metrics import roc_curve, auc\n",
    "\n",
    "from sklearn.preprocessing import Normalizer\n",
    "from scipy.sparse import hstack\n",
    "\n",
    "import pandas.util.testing as tm"
   ]
  },
  {
   "cell_type": "code",
   "execution_count": 2,
   "metadata": {
    "colab": {
     "base_uri": "https://localhost:8080/"
    },
    "id": "Rt3UNzZypirO",
    "outputId": "4d3eb747-4739-42bb-f090-9497eef41d71"
   },
   "outputs": [
    {
     "name": "stdout",
     "output_type": "stream",
     "text": [
      "Drive already mounted at /content/drive; to attempt to forcibly remount, call drive.mount(\"/content/drive\", force_remount=True).\n"
     ]
    }
   ],
   "source": [
    "from google.colab import drive\n",
    "drive.mount('/content/drive')"
   ]
  },
  {
   "cell_type": "code",
   "execution_count": 3,
   "metadata": {
    "id": "2cB412mCpZeu"
   },
   "outputs": [],
   "source": [
    "#Because of resource limitation we are going to work with 600,000 data points\n",
    "fraud= pd.read_csv('/content/drive/MyDrive/Colab Notebooks/Fraud.csv',nrows=600000)"
   ]
  },
  {
   "cell_type": "code",
   "execution_count": 4,
   "metadata": {
    "colab": {
     "base_uri": "https://localhost:8080/",
     "height": 197
    },
    "id": "0_IHqKGppZev",
    "outputId": "e70bf507-691b-441f-e4d4-0df559190b5f"
   },
   "outputs": [
    {
     "data": {
      "text/html": [
       "<div>\n",
       "<style scoped>\n",
       "    .dataframe tbody tr th:only-of-type {\n",
       "        vertical-align: middle;\n",
       "    }\n",
       "\n",
       "    .dataframe tbody tr th {\n",
       "        vertical-align: top;\n",
       "    }\n",
       "\n",
       "    .dataframe thead th {\n",
       "        text-align: right;\n",
       "    }\n",
       "</style>\n",
       "<table border=\"1\" class=\"dataframe\">\n",
       "  <thead>\n",
       "    <tr style=\"text-align: right;\">\n",
       "      <th></th>\n",
       "      <th>step</th>\n",
       "      <th>type</th>\n",
       "      <th>amount</th>\n",
       "      <th>nameOrig</th>\n",
       "      <th>oldbalanceOrg</th>\n",
       "      <th>newbalanceOrig</th>\n",
       "      <th>nameDest</th>\n",
       "      <th>oldbalanceDest</th>\n",
       "      <th>newbalanceDest</th>\n",
       "      <th>isFraud</th>\n",
       "      <th>isFlaggedFraud</th>\n",
       "    </tr>\n",
       "  </thead>\n",
       "  <tbody>\n",
       "    <tr>\n",
       "      <th>0</th>\n",
       "      <td>1</td>\n",
       "      <td>PAYMENT</td>\n",
       "      <td>9839.64</td>\n",
       "      <td>C1231006815</td>\n",
       "      <td>170136.0</td>\n",
       "      <td>160296.36</td>\n",
       "      <td>M1979787155</td>\n",
       "      <td>0.0</td>\n",
       "      <td>0.0</td>\n",
       "      <td>0</td>\n",
       "      <td>0</td>\n",
       "    </tr>\n",
       "    <tr>\n",
       "      <th>1</th>\n",
       "      <td>1</td>\n",
       "      <td>PAYMENT</td>\n",
       "      <td>1864.28</td>\n",
       "      <td>C1666544295</td>\n",
       "      <td>21249.0</td>\n",
       "      <td>19384.72</td>\n",
       "      <td>M2044282225</td>\n",
       "      <td>0.0</td>\n",
       "      <td>0.0</td>\n",
       "      <td>0</td>\n",
       "      <td>0</td>\n",
       "    </tr>\n",
       "    <tr>\n",
       "      <th>2</th>\n",
       "      <td>1</td>\n",
       "      <td>TRANSFER</td>\n",
       "      <td>181.00</td>\n",
       "      <td>C1305486145</td>\n",
       "      <td>181.0</td>\n",
       "      <td>0.00</td>\n",
       "      <td>C553264065</td>\n",
       "      <td>0.0</td>\n",
       "      <td>0.0</td>\n",
       "      <td>1</td>\n",
       "      <td>0</td>\n",
       "    </tr>\n",
       "    <tr>\n",
       "      <th>3</th>\n",
       "      <td>1</td>\n",
       "      <td>CASH_OUT</td>\n",
       "      <td>181.00</td>\n",
       "      <td>C840083671</td>\n",
       "      <td>181.0</td>\n",
       "      <td>0.00</td>\n",
       "      <td>C38997010</td>\n",
       "      <td>21182.0</td>\n",
       "      <td>0.0</td>\n",
       "      <td>1</td>\n",
       "      <td>0</td>\n",
       "    </tr>\n",
       "    <tr>\n",
       "      <th>4</th>\n",
       "      <td>1</td>\n",
       "      <td>PAYMENT</td>\n",
       "      <td>11668.14</td>\n",
       "      <td>C2048537720</td>\n",
       "      <td>41554.0</td>\n",
       "      <td>29885.86</td>\n",
       "      <td>M1230701703</td>\n",
       "      <td>0.0</td>\n",
       "      <td>0.0</td>\n",
       "      <td>0</td>\n",
       "      <td>0</td>\n",
       "    </tr>\n",
       "  </tbody>\n",
       "</table>\n",
       "</div>"
      ],
      "text/plain": [
       "   step      type    amount  ... newbalanceDest  isFraud  isFlaggedFraud\n",
       "0     1   PAYMENT   9839.64  ...            0.0        0               0\n",
       "1     1   PAYMENT   1864.28  ...            0.0        0               0\n",
       "2     1  TRANSFER    181.00  ...            0.0        1               0\n",
       "3     1  CASH_OUT    181.00  ...            0.0        1               0\n",
       "4     1   PAYMENT  11668.14  ...            0.0        0               0\n",
       "\n",
       "[5 rows x 11 columns]"
      ]
     },
     "execution_count": 4,
     "metadata": {
      "tags": []
     },
     "output_type": "execute_result"
    }
   ],
   "source": [
    "fraud.head()"
   ]
  },
  {
   "cell_type": "code",
   "execution_count": 5,
   "metadata": {
    "colab": {
     "base_uri": "https://localhost:8080/"
    },
    "id": "LCxnyzq_pZex",
    "outputId": "1ab5b725-f5f9-4f92-b025-2d586b10a8e3"
   },
   "outputs": [
    {
     "name": "stdout",
     "output_type": "stream",
     "text": [
      "<class 'pandas.core.frame.DataFrame'>\n",
      "RangeIndex: 600000 entries, 0 to 599999\n",
      "Data columns (total 11 columns):\n",
      " #   Column          Non-Null Count   Dtype  \n",
      "---  ------          --------------   -----  \n",
      " 0   step            600000 non-null  int64  \n",
      " 1   type            600000 non-null  object \n",
      " 2   amount          600000 non-null  float64\n",
      " 3   nameOrig        600000 non-null  object \n",
      " 4   oldbalanceOrg   600000 non-null  float64\n",
      " 5   newbalanceOrig  600000 non-null  float64\n",
      " 6   nameDest        600000 non-null  object \n",
      " 7   oldbalanceDest  600000 non-null  float64\n",
      " 8   newbalanceDest  600000 non-null  float64\n",
      " 9   isFraud         600000 non-null  int64  \n",
      " 10  isFlaggedFraud  600000 non-null  int64  \n",
      "dtypes: float64(5), int64(3), object(3)\n",
      "memory usage: 50.4+ MB\n"
     ]
    }
   ],
   "source": [
    "fraud.info()"
   ]
  },
  {
   "cell_type": "code",
   "execution_count": 6,
   "metadata": {
    "colab": {
     "base_uri": "https://localhost:8080/",
     "height": 287
    },
    "id": "xQuUHoE0pZex",
    "outputId": "5c5f0cf3-7dcc-43d8-f151-5817bb99d7af"
   },
   "outputs": [
    {
     "data": {
      "text/html": [
       "<div>\n",
       "<style scoped>\n",
       "    .dataframe tbody tr th:only-of-type {\n",
       "        vertical-align: middle;\n",
       "    }\n",
       "\n",
       "    .dataframe tbody tr th {\n",
       "        vertical-align: top;\n",
       "    }\n",
       "\n",
       "    .dataframe thead th {\n",
       "        text-align: right;\n",
       "    }\n",
       "</style>\n",
       "<table border=\"1\" class=\"dataframe\">\n",
       "  <thead>\n",
       "    <tr style=\"text-align: right;\">\n",
       "      <th></th>\n",
       "      <th>step</th>\n",
       "      <th>amount</th>\n",
       "      <th>oldbalanceOrg</th>\n",
       "      <th>newbalanceOrig</th>\n",
       "      <th>oldbalanceDest</th>\n",
       "      <th>newbalanceDest</th>\n",
       "      <th>isFraud</th>\n",
       "      <th>isFlaggedFraud</th>\n",
       "    </tr>\n",
       "  </thead>\n",
       "  <tbody>\n",
       "    <tr>\n",
       "      <th>count</th>\n",
       "      <td>600000.000000</td>\n",
       "      <td>6.000000e+05</td>\n",
       "      <td>6.000000e+05</td>\n",
       "      <td>6.000000e+05</td>\n",
       "      <td>6.000000e+05</td>\n",
       "      <td>6.000000e+05</td>\n",
       "      <td>600000.000000</td>\n",
       "      <td>600000.0</td>\n",
       "    </tr>\n",
       "    <tr>\n",
       "      <th>mean</th>\n",
       "      <td>15.579285</td>\n",
       "      <td>1.610948e+05</td>\n",
       "      <td>8.879161e+05</td>\n",
       "      <td>9.077204e+05</td>\n",
       "      <td>9.732537e+05</td>\n",
       "      <td>1.136523e+06</td>\n",
       "      <td>0.000602</td>\n",
       "      <td>0.0</td>\n",
       "    </tr>\n",
       "    <tr>\n",
       "      <th>std</th>\n",
       "      <td>5.482356</td>\n",
       "      <td>2.691603e+05</td>\n",
       "      <td>2.955238e+06</td>\n",
       "      <td>2.992303e+06</td>\n",
       "      <td>2.315887e+06</td>\n",
       "      <td>2.474046e+06</td>\n",
       "      <td>0.024522</td>\n",
       "      <td>0.0</td>\n",
       "    </tr>\n",
       "    <tr>\n",
       "      <th>min</th>\n",
       "      <td>1.000000</td>\n",
       "      <td>1.000000e-01</td>\n",
       "      <td>0.000000e+00</td>\n",
       "      <td>0.000000e+00</td>\n",
       "      <td>0.000000e+00</td>\n",
       "      <td>0.000000e+00</td>\n",
       "      <td>0.000000</td>\n",
       "      <td>0.0</td>\n",
       "    </tr>\n",
       "    <tr>\n",
       "      <th>25%</th>\n",
       "      <td>12.000000</td>\n",
       "      <td>1.231988e+04</td>\n",
       "      <td>0.000000e+00</td>\n",
       "      <td>0.000000e+00</td>\n",
       "      <td>0.000000e+00</td>\n",
       "      <td>0.000000e+00</td>\n",
       "      <td>0.000000</td>\n",
       "      <td>0.0</td>\n",
       "    </tr>\n",
       "    <tr>\n",
       "      <th>50%</th>\n",
       "      <td>15.000000</td>\n",
       "      <td>7.550923e+04</td>\n",
       "      <td>1.776339e+04</td>\n",
       "      <td>0.000000e+00</td>\n",
       "      <td>1.127104e+05</td>\n",
       "      <td>2.057941e+05</td>\n",
       "      <td>0.000000</td>\n",
       "      <td>0.0</td>\n",
       "    </tr>\n",
       "    <tr>\n",
       "      <th>75%</th>\n",
       "      <td>19.000000</td>\n",
       "      <td>2.150715e+05</td>\n",
       "      <td>1.567722e+05</td>\n",
       "      <td>1.956683e+05</td>\n",
       "      <td>8.900036e+05</td>\n",
       "      <td>1.168897e+06</td>\n",
       "      <td>0.000000</td>\n",
       "      <td>0.0</td>\n",
       "    </tr>\n",
       "    <tr>\n",
       "      <th>max</th>\n",
       "      <td>34.000000</td>\n",
       "      <td>1.000000e+07</td>\n",
       "      <td>3.893942e+07</td>\n",
       "      <td>3.894623e+07</td>\n",
       "      <td>4.148270e+07</td>\n",
       "      <td>4.148270e+07</td>\n",
       "      <td>1.000000</td>\n",
       "      <td>0.0</td>\n",
       "    </tr>\n",
       "  </tbody>\n",
       "</table>\n",
       "</div>"
      ],
      "text/plain": [
       "                step        amount  ...        isFraud  isFlaggedFraud\n",
       "count  600000.000000  6.000000e+05  ...  600000.000000        600000.0\n",
       "mean       15.579285  1.610948e+05  ...       0.000602             0.0\n",
       "std         5.482356  2.691603e+05  ...       0.024522             0.0\n",
       "min         1.000000  1.000000e-01  ...       0.000000             0.0\n",
       "25%        12.000000  1.231988e+04  ...       0.000000             0.0\n",
       "50%        15.000000  7.550923e+04  ...       0.000000             0.0\n",
       "75%        19.000000  2.150715e+05  ...       0.000000             0.0\n",
       "max        34.000000  1.000000e+07  ...       1.000000             0.0\n",
       "\n",
       "[8 rows x 8 columns]"
      ]
     },
     "execution_count": 6,
     "metadata": {
      "tags": []
     },
     "output_type": "execute_result"
    }
   ],
   "source": [
    "fraud.describe()"
   ]
  },
  {
   "cell_type": "code",
   "execution_count": 7,
   "metadata": {
    "colab": {
     "base_uri": "https://localhost:8080/"
    },
    "id": "DA21kvInpZey",
    "outputId": "dd297cc2-2833-40dd-f3bc-32624d3ff24b"
   },
   "outputs": [
    {
     "data": {
      "text/plain": [
       "CASH_OUT    212756\n",
       "PAYMENT     203602\n",
       "CASH_IN     130073\n",
       "TRANSFER     48949\n",
       "DEBIT         4620\n",
       "Name: type, dtype: int64"
      ]
     },
     "execution_count": 7,
     "metadata": {
      "tags": []
     },
     "output_type": "execute_result"
    }
   ],
   "source": [
    "fraud.type.value_counts()"
   ]
  },
  {
   "cell_type": "code",
   "execution_count": 8,
   "metadata": {
    "colab": {
     "base_uri": "https://localhost:8080/"
    },
    "id": "09weRR_-pZez",
    "outputId": "3750685d-e80b-4069-d0ea-ccb5162ce879"
   },
   "outputs": [
    {
     "name": "stdout",
     "output_type": "stream",
     "text": [
      "{'CASH_OUT': 212756, 'PAYMENT': 203602, 'CASH_IN': 130073, 'TRANSFER': 48949, 'DEBIT': 4620}\n"
     ]
    }
   ],
   "source": [
    "type_tr=dict(fraud.type.value_counts())\n",
    "print(type_tr)"
   ]
  },
  {
   "cell_type": "code",
   "execution_count": 9,
   "metadata": {
    "colab": {
     "base_uri": "https://localhost:8080/",
     "height": 422
    },
    "id": "AonTA4-apZe0",
    "outputId": "cfe96092-dfc9-4e79-932a-16421a3d076d"
   },
   "outputs": [
    {
     "name": "stderr",
     "output_type": "stream",
     "text": [
      "/usr/local/lib/python3.7/dist-packages/seaborn/_decorators.py:43: FutureWarning: Pass the following variables as keyword args: x, y. From version 0.12, the only valid positional argument will be `data`, and passing other arguments without an explicit keyword will result in an error or misinterpretation.\n",
      "  FutureWarning\n"
     ]
    },
    {
     "data": {
      "image/png": "[encoded data removed]",
      "text/plain": [
       "<Figure size 432x288 with 1 Axes>"
      ]
     },
     "metadata": {
      "needs_background": "light",
      "tags": []
     },
     "output_type": "display_data"
    }
   ],
   "source": [
    "fig = plt.figure()\n",
    "ax = fig.add_axes([0,0,1,1])\n",
    "ty = list(type_tr.keys())\n",
    "count = list(type_tr.values())\n",
    "sns.barplot(ty,count)\n",
    "plt.title('Counts of different types of transaction')\n",
    "plt.ylabel('Counts in millions')\n",
    "plt.xlabel('Trasnaction Types ')\n",
    "plt.show()"
   ]
  },
  {
   "cell_type": "code",
   "execution_count": 10,
   "metadata": {
    "id": "scppV1XzpZe1"
   },
   "outputs": [],
   "source": [
    "fraud_1=fraud[fraud['isFraud']==1]"
   ]
  },
  {
   "cell_type": "code",
   "execution_count": 11,
   "metadata": {
    "colab": {
     "base_uri": "https://localhost:8080/"
    },
    "id": "m8HNxMCbpZe1",
    "outputId": "6f6c729c-f7ab-46d2-9213-a58e29eeab7f"
   },
   "outputs": [
    {
     "data": {
      "text/plain": [
       "CASH_OUT    186\n",
       "TRANSFER    175\n",
       "Name: type, dtype: int64"
      ]
     },
     "execution_count": 11,
     "metadata": {
      "tags": []
     },
     "output_type": "execute_result"
    }
   ],
   "source": [
    "fraud_1.type.value_counts()"
   ]
  },
  {
   "cell_type": "markdown",
   "metadata": {
    "id": "WA7Hw7WTpZe2"
   },
   "source": [
    "# So it is observe that Fraud case mostly happend in Cash_out and Transfer transaction"
   ]
  },
  {
   "cell_type": "code",
   "execution_count": 12,
   "metadata": {
    "colab": {
     "base_uri": "https://localhost:8080/"
    },
    "id": "EMzi1MeOpZe2",
    "outputId": "bfccd903-c8bb-42c2-ccf3-18a7b5abb0a0"
   },
   "outputs": [
    {
     "name": "stdout",
     "output_type": "stream",
     "text": [
      "{'CASH_OUT': 186, 'TRANSFER': 175}\n"
     ]
    }
   ],
   "source": [
    "typ=dict(fraud_1.type.value_counts())\n",
    "print(typ)"
   ]
  },
  {
   "cell_type": "code",
   "execution_count": 13,
   "metadata": {
    "colab": {
     "base_uri": "https://localhost:8080/",
     "height": 422
    },
    "id": "8DX1Bj1DpZe3",
    "outputId": "4101a281-8f0d-4d6c-cec1-a1f070dd8e8d"
   },
   "outputs": [
    {
     "name": "stderr",
     "output_type": "stream",
     "text": [
      "/usr/local/lib/python3.7/dist-packages/seaborn/_decorators.py:43: FutureWarning: Pass the following variables as keyword args: x, y. From version 0.12, the only valid positional argument will be `data`, and passing other arguments without an explicit keyword will result in an error or misinterpretation.\n",
      "  FutureWarning\n"
     ]
    },
    {
     "data": {
      "image/png": "[encoded data removed]",
      "text/plain": [
       "<Figure size 432x288 with 1 Axes>"
      ]
     },
     "metadata": {
      "needs_background": "light",
      "tags": []
     },
     "output_type": "display_data"
    }
   ],
   "source": [
    "fig = plt.figure()\n",
    "ax = fig.add_axes([0,0,1,1])\n",
    "ty = list(typ.keys())\n",
    "#count = fraud_1.type.value_counts().values\n",
    "count = list(typ.values())\n",
    "sns.barplot(ty,count)\n",
    "plt.title('Counts of different types of transaction')\n",
    "plt.ylabel('Counts in millions')\n",
    "plt.xlabel('Trasnaction Types ')\n",
    "plt.show()"
   ]
  },
  {
   "cell_type": "code",
   "execution_count": 14,
   "metadata": {
    "colab": {
     "base_uri": "https://localhost:8080/"
    },
    "id": "n-mAy5eVpZe4",
    "outputId": "c1e57fe1-6bd8-42ab-a1e7-86d9d6b940d7"
   },
   "outputs": [
    {
     "data": {
      "text/plain": [
       "Series([], Name: type, dtype: int64)"
      ]
     },
     "execution_count": 14,
     "metadata": {
      "tags": []
     },
     "output_type": "execute_result"
    }
   ],
   "source": [
    "fraud_flag=fraud[fraud['isFlaggedFraud']==1]\n",
    "fraud_flag.type.value_counts()"
   ]
  },
  {
   "cell_type": "markdown",
   "metadata": {},
   "source": [
    "### Predefine model only flagged the few Transaction from TRANSFER\n",
    "### So we are going to remove all the rows which have CASH_IN, PAYMENT and DEBIT type in columns"
   ]
  },
  {
   "cell_type": "code",
   "execution_count": 16,
   "metadata": {
    "colab": {
     "base_uri": "https://localhost:8080/"
    },
    "id": "8CgWDkT2pZe5",
    "outputId": "4e854524-1e57-4845-e5f5-2aa2297cb696"
   },
   "outputs": [
    {
     "data": {
      "text/plain": [
       "(261705, 11)"
      ]
     },
     "execution_count": 16,
     "metadata": {
      "tags": []
     },
     "output_type": "execute_result"
    }
   ],
   "source": [
    "data= fraud.loc[fraud['type'].isin(['CASH_OUT', 'TRANSFER'])]\n",
    "data.shape"
   ]
  },
  {
   "cell_type": "code",
   "execution_count": 18,
   "metadata": {
    "id": "c7XdC37FpZfG"
   },
   "outputs": [],
   "source": [
    "class_label= data['isFraud']\n",
    "#print(class_label)"
   ]
  },
  {
   "cell_type": "code",
   "execution_count": 19,
   "metadata": {
    "id": "m2a8UIe9pZfH"
   },
   "outputs": [],
   "source": [
    "data= data.drop(['isFraud','isFlaggedFraud'],axis=1)"
   ]
  },
  {
   "cell_type": "code",
   "execution_count": 20,
   "metadata": {
    "colab": {
     "base_uri": "https://localhost:8080/",
     "height": 197
    },
    "id": "JbCGgLrgpZfI",
    "outputId": "ee7a1c0c-8ffe-480c-a14c-ada8a62bd1c8"
   },
   "outputs": [
    {
     "data": {
      "text/html": [
       "<div>\n",
       "<style scoped>\n",
       "    .dataframe tbody tr th:only-of-type {\n",
       "        vertical-align: middle;\n",
       "    }\n",
       "\n",
       "    .dataframe tbody tr th {\n",
       "        vertical-align: top;\n",
       "    }\n",
       "\n",
       "    .dataframe thead th {\n",
       "        text-align: right;\n",
       "    }\n",
       "</style>\n",
       "<table border=\"1\" class=\"dataframe\">\n",
       "  <thead>\n",
       "    <tr style=\"text-align: right;\">\n",
       "      <th></th>\n",
       "      <th>step</th>\n",
       "      <th>type</th>\n",
       "      <th>amount</th>\n",
       "      <th>nameOrig</th>\n",
       "      <th>oldbalanceOrg</th>\n",
       "      <th>newbalanceOrig</th>\n",
       "      <th>nameDest</th>\n",
       "      <th>oldbalanceDest</th>\n",
       "      <th>newbalanceDest</th>\n",
       "    </tr>\n",
       "  </thead>\n",
       "  <tbody>\n",
       "    <tr>\n",
       "      <th>2</th>\n",
       "      <td>1</td>\n",
       "      <td>TRANSFER</td>\n",
       "      <td>181.00</td>\n",
       "      <td>C1305486145</td>\n",
       "      <td>181.0</td>\n",
       "      <td>0.0</td>\n",
       "      <td>C553264065</td>\n",
       "      <td>0.0</td>\n",
       "      <td>0.00</td>\n",
       "    </tr>\n",
       "    <tr>\n",
       "      <th>3</th>\n",
       "      <td>1</td>\n",
       "      <td>CASH_OUT</td>\n",
       "      <td>181.00</td>\n",
       "      <td>C840083671</td>\n",
       "      <td>181.0</td>\n",
       "      <td>0.0</td>\n",
       "      <td>C38997010</td>\n",
       "      <td>21182.0</td>\n",
       "      <td>0.00</td>\n",
       "    </tr>\n",
       "    <tr>\n",
       "      <th>15</th>\n",
       "      <td>1</td>\n",
       "      <td>CASH_OUT</td>\n",
       "      <td>229133.94</td>\n",
       "      <td>C905080434</td>\n",
       "      <td>15325.0</td>\n",
       "      <td>0.0</td>\n",
       "      <td>C476402209</td>\n",
       "      <td>5083.0</td>\n",
       "      <td>51513.44</td>\n",
       "    </tr>\n",
       "    <tr>\n",
       "      <th>19</th>\n",
       "      <td>1</td>\n",
       "      <td>TRANSFER</td>\n",
       "      <td>215310.30</td>\n",
       "      <td>C1670993182</td>\n",
       "      <td>705.0</td>\n",
       "      <td>0.0</td>\n",
       "      <td>C1100439041</td>\n",
       "      <td>22425.0</td>\n",
       "      <td>0.00</td>\n",
       "    </tr>\n",
       "    <tr>\n",
       "      <th>24</th>\n",
       "      <td>1</td>\n",
       "      <td>TRANSFER</td>\n",
       "      <td>311685.89</td>\n",
       "      <td>C1984094095</td>\n",
       "      <td>10835.0</td>\n",
       "      <td>0.0</td>\n",
       "      <td>C932583850</td>\n",
       "      <td>6267.0</td>\n",
       "      <td>2719172.89</td>\n",
       "    </tr>\n",
       "  </tbody>\n",
       "</table>\n",
       "</div>"
      ],
      "text/plain": [
       "    step      type     amount  ...     nameDest  oldbalanceDest  newbalanceDest\n",
       "2      1  TRANSFER     181.00  ...   C553264065             0.0            0.00\n",
       "3      1  CASH_OUT     181.00  ...    C38997010         21182.0            0.00\n",
       "15     1  CASH_OUT  229133.94  ...   C476402209          5083.0        51513.44\n",
       "19     1  TRANSFER  215310.30  ...  C1100439041         22425.0            0.00\n",
       "24     1  TRANSFER  311685.89  ...   C932583850          6267.0      2719172.89\n",
       "\n",
       "[5 rows x 9 columns]"
      ]
     },
     "execution_count": 20,
     "metadata": {
      "tags": []
     },
     "output_type": "execute_result"
    }
   ],
   "source": [
    "data.head()\n",
    "df=data\n",
    "df.head()"
   ]
  },
  {
   "cell_type": "code",
   "execution_count": 21,
   "metadata": {
    "id": "ixZl-Q99pZfS"
   },
   "outputs": [],
   "source": [
    "from sklearn.preprocessing import OrdinalEncoder\n",
    "from sklearn.preprocessing import LabelEncoder\n",
    "from sklearn.preprocessing import OneHotEncoder\n",
    "#df['nameOrig'].apply(LabelEncoder().fit_transform)\n",
    "#h=OneHotEncoder().fit_transform(df)\n",
    "encoder= LabelEncoder()\n",
    "type_enc= encoder.fit_transform(data['type'])\n",
    "nameO_enc= encoder.fit_transform(data['nameOrig'])\n",
    "nameD_enc= encoder.fit_transform(data['nameDest'])"
   ]
  },
  {
   "cell_type": "code",
   "execution_count": 22,
   "metadata": {
    "colab": {
     "base_uri": "https://localhost:8080/",
     "height": 197
    },
    "id": "P6qwKthQpZfT",
    "outputId": "d8a54474-160a-471b-e2f5-2273a6785aab"
   },
   "outputs": [
    {
     "data": {
      "text/html": [
       "<div>\n",
       "<style scoped>\n",
       "    .dataframe tbody tr th:only-of-type {\n",
       "        vertical-align: middle;\n",
       "    }\n",
       "\n",
       "    .dataframe tbody tr th {\n",
       "        vertical-align: top;\n",
       "    }\n",
       "\n",
       "    .dataframe thead th {\n",
       "        text-align: right;\n",
       "    }\n",
       "</style>\n",
       "<table border=\"1\" class=\"dataframe\">\n",
       "  <thead>\n",
       "    <tr style=\"text-align: right;\">\n",
       "      <th></th>\n",
       "      <th>step</th>\n",
       "      <th>type</th>\n",
       "      <th>amount</th>\n",
       "      <th>nameOrig</th>\n",
       "      <th>oldbalanceOrg</th>\n",
       "      <th>newbalanceOrig</th>\n",
       "      <th>nameDest</th>\n",
       "      <th>oldbalanceDest</th>\n",
       "      <th>newbalanceDest</th>\n",
       "    </tr>\n",
       "  </thead>\n",
       "  <tbody>\n",
       "    <tr>\n",
       "      <th>2</th>\n",
       "      <td>1</td>\n",
       "      <td>1</td>\n",
       "      <td>181.00</td>\n",
       "      <td>40937</td>\n",
       "      <td>181.0</td>\n",
       "      <td>0.0</td>\n",
       "      <td>38931</td>\n",
       "      <td>0.0</td>\n",
       "      <td>0.00</td>\n",
       "    </tr>\n",
       "    <tr>\n",
       "      <th>3</th>\n",
       "      <td>1</td>\n",
       "      <td>0</td>\n",
       "      <td>181.00</td>\n",
       "      <td>240122</td>\n",
       "      <td>181.0</td>\n",
       "      <td>0.0</td>\n",
       "      <td>34661</td>\n",
       "      <td>21182.0</td>\n",
       "      <td>0.00</td>\n",
       "    </tr>\n",
       "    <tr>\n",
       "      <th>15</th>\n",
       "      <td>1</td>\n",
       "      <td>0</td>\n",
       "      <td>229133.94</td>\n",
       "      <td>248763</td>\n",
       "      <td>15325.0</td>\n",
       "      <td>0.0</td>\n",
       "      <td>36938</td>\n",
       "      <td>5083.0</td>\n",
       "      <td>51513.44</td>\n",
       "    </tr>\n",
       "    <tr>\n",
       "      <th>19</th>\n",
       "      <td>1</td>\n",
       "      <td>1</td>\n",
       "      <td>215310.30</td>\n",
       "      <td>90405</td>\n",
       "      <td>705.0</td>\n",
       "      <td>0.0</td>\n",
       "      <td>2708</td>\n",
       "      <td>22425.0</td>\n",
       "      <td>0.00</td>\n",
       "    </tr>\n",
       "    <tr>\n",
       "      <th>24</th>\n",
       "      <td>1</td>\n",
       "      <td>1</td>\n",
       "      <td>311685.89</td>\n",
       "      <td>132711</td>\n",
       "      <td>10835.0</td>\n",
       "      <td>0.0</td>\n",
       "      <td>48971</td>\n",
       "      <td>6267.0</td>\n",
       "      <td>2719172.89</td>\n",
       "    </tr>\n",
       "  </tbody>\n",
       "</table>\n",
       "</div>"
      ],
      "text/plain": [
       "    step  type     amount  ...  nameDest  oldbalanceDest  newbalanceDest\n",
       "2      1     1     181.00  ...     38931             0.0            0.00\n",
       "3      1     0     181.00  ...     34661         21182.0            0.00\n",
       "15     1     0  229133.94  ...     36938          5083.0        51513.44\n",
       "19     1     1  215310.30  ...      2708         22425.0            0.00\n",
       "24     1     1  311685.89  ...     48971          6267.0      2719172.89\n",
       "\n",
       "[5 rows x 9 columns]"
      ]
     },
     "execution_count": 22,
     "metadata": {
      "tags": []
     },
     "output_type": "execute_result"
    }
   ],
   "source": [
    "data['type']=type_enc\n",
    "data['nameOrig']= nameO_enc\n",
    "data['nameDest']= nameD_enc\n",
    "data.head()"
   ]
  },
  {
   "cell_type": "code",
   "execution_count": 23,
   "metadata": {
    "colab": {
     "base_uri": "https://localhost:8080/"
    },
    "id": "k-mZKA5npZfU",
    "outputId": "ec3c38ff-12f4-41d3-c33d-f770e6e6504e"
   },
   "outputs": [
    {
     "data": {
      "text/plain": [
       "(261705, 9)"
      ]
     },
     "execution_count": 23,
     "metadata": {
      "tags": []
     },
     "output_type": "execute_result"
    }
   ],
   "source": [
    "X= data\n",
    "#print(X)\n",
    "y=class_label\n",
    "#print(y)\n",
    "X.shape"
   ]
  },
  {
   "cell_type": "markdown",
   "metadata": {},
   "source": [
    "## Spliting data in train and test data set with a test size of 20% from data points"
   ]
  },
  {
   "cell_type": "code",
   "execution_count": 24,
   "metadata": {
    "id": "25g2PAJgpZfW"
   },
   "outputs": [],
   "source": [
    "from sklearn.model_selection import train_test_split\n",
    "X_train, X_test, y_train, y_test = train_test_split(X, y, test_size=0.20,stratify=y)"
   ]
  },
  {
   "cell_type": "code",
   "execution_count": 25,
   "metadata": {
    "colab": {
     "base_uri": "https://localhost:8080/"
    },
    "id": "I4LpivhzpZfW",
    "outputId": "74900a7c-ec74-4da9-9597-3fdffd4883d3"
   },
   "outputs": [
    {
     "name": "stdout",
     "output_type": "stream",
     "text": [
      "(209364, 9)\n",
      "(52341, 9)\n",
      "(209364,)\n",
      "(52341,)\n"
     ]
    }
   ],
   "source": [
    "print(X_train.shape)\n",
    "print(X_test.shape)\n",
    "print(y_train.shape)\n",
    "print(y_test.shape)"
   ]
  },
  {
   "cell_type": "code",
   "execution_count": 26,
   "metadata": {
    "id": "8f2J4N96pZfX"
   },
   "outputs": [],
   "source": [
    "from scipy.sparse import coo_matrix\n",
    "from scipy.sparse import csr_matrix\n",
    "import scipy.sparse"
   ]
  },
  {
   "cell_type": "markdown",
   "metadata": {},
   "source": [
    "## Normalizing data-points"
   ]
  },
  {
   "cell_type": "code",
   "execution_count": 27,
   "metadata": {
    "colab": {
     "base_uri": "https://localhost:8080/"
    },
    "id": "VVWvHRHGpZfY",
    "outputId": "0161f800-25ac-4a38-ac50-61e3179bd118"
   },
   "outputs": [
    {
     "name": "stdout",
     "output_type": "stream",
     "text": [
      "(209364, 1)\n",
      "(52341, 1)\n",
      "==================================================\n",
      "(209364, 1)\n",
      "(52341, 1)\n",
      "==================================================\n",
      "(209364, 1)\n",
      "(52341, 1)\n",
      "==================================================\n",
      "(209364, 1)\n",
      "(52341, 1)\n",
      "==================================================\n",
      "(209364, 1)\n",
      "(52341, 1)\n",
      "==================================================\n",
      "(209364, 1)\n",
      "(52341, 1)\n",
      "==================================================\n",
      "(209364, 1)\n",
      "(52341, 1)\n",
      "==================================================\n",
      "(209364, 1)\n",
      "(52341, 1)\n",
      "==================================================\n",
      "(209364, 1)\n",
      "(52341, 1)\n",
      "==================================================\n"
     ]
    }
   ],
   "source": [
    "normalizer= Normalizer()\n",
    "\n",
    "normalizer.fit(X_train['step'].values.reshape(1,-1))\n",
    "x_tr_step = scipy.sparse.csr_matrix(normalizer.transform(X_train['step'].values.reshape(-1,1)))\n",
    "x_te_step = scipy.sparse.csr_matrix(normalizer.transform(X_test['step'].values.reshape(-1,1)))\n",
    "#a= scipy.sparse.coo_matrix(x_tr_step)\n",
    "print(x_tr_step.shape)\n",
    "print(x_te_step.shape)\n",
    "print('='*50)\n",
    "\n",
    "normalizer.fit(X_train['type'].values.reshape(1,-1))\n",
    "x_tr_type = scipy.sparse.csr_matrix(normalizer.transform(X_train['type'].values.reshape(-1,1)))\n",
    "x_te_type = scipy.sparse.csr_matrix(normalizer.transform(X_test['type'].values.reshape(-1,1)))\n",
    "#b=scipy.sparse.coo_matrix(x_tr_type)\n",
    "print(x_tr_type.shape)\n",
    "print(x_te_type.shape)\n",
    "print(\"=\"*50)\n",
    "\n",
    "normalizer.fit(X_train['amount'].values.reshape(1,-1))\n",
    "x_tr_amount = scipy.sparse.csr_matrix(normalizer.transform(X_train['amount'].values.reshape(-1,1)))\n",
    "x_te_amount = scipy.sparse.csr_matrix(normalizer.transform(X_test['amount'].values.reshape(-1,1)))\n",
    "print(x_tr_amount.shape)\n",
    "print(x_te_amount.shape)\n",
    "print(\"=\"*50)\n",
    "\n",
    "normalizer.fit(X_train['nameOrig'].values.reshape(1,-1))\n",
    "x_tr_nameO = scipy.sparse.csr_matrix(normalizer.transform(X_train['nameOrig'].values.reshape(-1,1)))\n",
    "x_te_nameO = scipy.sparse.csr_matrix(normalizer.transform(X_test['nameOrig'].values.reshape(-1,1)))\n",
    "print(x_tr_nameO.shape)\n",
    "print(x_te_nameO.shape)\n",
    "print(\"=\"*50)\n",
    "\n",
    "normalizer.fit(X_train['oldbalanceOrg'].values.reshape(1,-1))\n",
    "x_tr_oldBalO = scipy.sparse.csr_matrix(normalizer.transform(X_train['oldbalanceOrg'].values.reshape(-1,1)))\n",
    "x_te_oldBalO = scipy.sparse.csr_matrix(normalizer.transform(X_test['oldbalanceOrg'].values.reshape(-1,1)))\n",
    "print(x_tr_oldBalO.shape)\n",
    "print(x_te_oldBalO.shape)\n",
    "print(\"=\"*50)\n",
    "\n",
    "normalizer.fit(X_train['newbalanceOrig'].values.reshape(1,-1))\n",
    "x_tr_newBalO = scipy.sparse.csr_matrix(normalizer.transform(X_train['newbalanceOrig'].values.reshape(-1,1)))\n",
    "x_te_newBalO = scipy.sparse.csr_matrix(normalizer.transform(X_test['newbalanceOrig'].values.reshape(-1,1)))\n",
    "print(x_tr_newBalO.shape)\n",
    "print(x_te_newBalO.shape)\n",
    "print(\"=\"*50)\n",
    "\n",
    "normalizer.fit(X_train['nameDest'].values.reshape(1,-1))\n",
    "x_tr_nameD = scipy.sparse.csr_matrix(normalizer.transform(X_train['nameDest'].values.reshape(-1,1)))\n",
    "x_te_nameD = scipy.sparse.csr_matrix(normalizer.transform(X_test['nameDest'].values.reshape(-1,1)))\n",
    "print(x_tr_nameD.shape)\n",
    "print(x_te_nameD.shape)\n",
    "print(\"=\"*50)\n",
    "\n",
    "normalizer.fit(X_train['oldbalanceDest'].values.reshape(1,-1))\n",
    "x_tr_oldBalD = scipy.sparse.csr_matrix(normalizer.transform(X_train['oldbalanceDest'].values.reshape(-1,1)))\n",
    "x_te_oldBalD = scipy.sparse.csr_matrix(normalizer.transform(X_test['oldbalanceDest'].values.reshape(-1,1)))\n",
    "print(x_tr_oldBalD.shape)\n",
    "print(x_te_oldBalD.shape)\n",
    "print(\"=\"*50)\n",
    "\n",
    "normalizer.fit(X_train['newbalanceDest'].values.reshape(1,-1))\n",
    "x_tr_newBalD = scipy.sparse.csr_matrix(normalizer.transform(X_train['newbalanceDest'].values.reshape(-1,1)))\n",
    "x_te_newBalD = scipy.sparse.csr_matrix(normalizer.transform(X_test['newbalanceDest'].values.reshape(-1,1)))\n",
    "print(x_tr_newBalD.shape)\n",
    "print(x_te_newBalD.shape)\n",
    "print(\"=\"*50)"
   ]
  },
  {
   "cell_type": "code",
   "execution_count": 29,
   "metadata": {
    "colab": {
     "base_uri": "https://localhost:8080/"
    },
    "id": "dVSE7uPcpZfk",
    "outputId": "f99ad6bc-a776-4f36-b343-d7ce2f7cf6fe"
   },
   "outputs": [
    {
     "name": "stdout",
     "output_type": "stream",
     "text": [
      "(209364, 9)\n",
      "(52341, 9)\n"
     ]
    }
   ],
   "source": [
    "from scipy.sparse import coo_matrix\n",
    "from scipy.sparse import csr_matrix\n",
    "\n",
    "x_train= hstack((x_tr_step,x_tr_type,x_tr_amount,x_tr_nameO,x_tr_oldBalO,x_tr_newBalO,x_tr_nameD,x_tr_oldBalD,x_tr_newBalD)).tocsr()\n",
    "#x_train= hstack((csr_matrix(x_tr_step),csr_matrix(x_tr_type))).tocsr()\n",
    "print(x_train.shape)\n",
    "x_test= hstack((x_te_step,x_te_type,x_te_amount,x_te_nameO,x_te_oldBalO,x_te_newBalO,x_te_nameD,x_te_oldBalD,x_te_newBalD)).tocsr()\n",
    "print(x_test.shape)"
   ]
  },
  {
   "cell_type": "markdown",
   "metadata": {},
   "source": [
    "# Model-1 Logistic Regression"
   ]
  },
  {
   "cell_type": "code",
   "execution_count": 30,
   "metadata": {
    "colab": {
     "base_uri": "https://localhost:8080/"
    },
    "id": "uP1ERR1IpZfm",
    "outputId": "12b4f078-6dbb-4b06-ecdd-e48ed19867d7"
   },
   "outputs": [
    {
     "data": {
      "text/plain": [
       "GridSearchCV(cv=3, error_score=nan,\n",
       "             estimator=LogisticRegression(C=1.0, class_weight=None, dual=False,\n",
       "                                          fit_intercept=True,\n",
       "                                          intercept_scaling=1, l1_ratio=None,\n",
       "                                          max_iter=100, multi_class='auto',\n",
       "                                          n_jobs=None, penalty='l2',\n",
       "                                          random_state=None, solver='lbfgs',\n",
       "                                          tol=0.0001, verbose=0,\n",
       "                                          warm_start=False),\n",
       "             iid='deprecated', n_jobs=None,\n",
       "             param_grid=[{'C': [0.01, 0.1, 1, 10, 20]}],\n",
       "             pre_dispatch='2*n_jobs', refit=True, return_train_score=False,\n",
       "             scoring='f1', verbose=0)"
      ]
     },
     "execution_count": 30,
     "metadata": {
      "tags": []
     },
     "output_type": "execute_result"
    }
   ],
   "source": [
    "from sklearn.linear_model import LogisticRegression\n",
    "from sklearn.model_selection import GridSearchCV\n",
    "\n",
    "tuned_parameters = [{'C': [0.01,0.1,1,10,20]}]\n",
    "model = GridSearchCV(LogisticRegression(), tuned_parameters, scoring = 'f1', cv=3)\n",
    "model.fit(x_train, y_train)"
   ]
  },
  {
   "cell_type": "code",
   "execution_count": 31,
   "metadata": {
    "colab": {
     "base_uri": "https://localhost:8080/"
    },
    "id": "0ph3JYjNpZfw",
    "outputId": "77ab8a46-e9cb-4417-b3c4-cab63eb27da7"
   },
   "outputs": [
    {
     "name": "stdout",
     "output_type": "stream",
     "text": [
      "LogisticRegression(C=0.01, class_weight=None, dual=False, fit_intercept=True,\n",
      "                   intercept_scaling=1, l1_ratio=None, max_iter=100,\n",
      "                   multi_class='auto', n_jobs=None, penalty='l2',\n",
      "                   random_state=None, solver='lbfgs', tol=0.0001, verbose=0,\n",
      "                   warm_start=False)\n",
      "Best Hyper-parameter: {'C': 0.01}\n"
     ]
    }
   ],
   "source": [
    "print(model.best_estimator_)\n",
    "best_p=model.best_params_\n",
    "print('Best Hyper-parameter:',model.best_params_)"
   ]
  },
  {
   "cell_type": "code",
   "execution_count": 32,
   "metadata": {
    "id": "N1weZNhQpZfx"
   },
   "outputs": [],
   "source": [
    "def batch_predict(clf, data):\n",
    "    # roc_auc_score(y_true, y_score) the 2nd parameter should be probability estimates of the positive class\n",
    "    # not the predicted outputs\n",
    "\n",
    "    y_data_pred = []\n",
    "    tr_loop = data.shape[0] - data.shape[0]%1000\n",
    "\n",
    "    for i in range(0, tr_loop, 1000):\n",
    "        y_data_pred.extend(clf.predict_proba(data[i:i+1000])[:,1])\n",
    "\n",
    "    if data.shape[0]%1000 !=0:\n",
    "        y_data_pred.extend(clf.predict_proba(data[tr_loop:])[:,1])\n",
    "    \n",
    "    return y_data_pred"
   ]
  },
  {
   "cell_type": "code",
   "execution_count": 33,
   "metadata": {
    "id": "oOBey0GhpZfy"
   },
   "outputs": [],
   "source": [
    "def find_best_threshold(threshould, fpr, tpr):\n",
    "    t = threshould[np.argmax(tpr*(1-fpr))]\n",
    "    # (tpr*(1-fpr)) will be maximum if your fpr is very low and tpr is very high\n",
    "    print(\"the maximum value of tpr*(1-fpr)\", max(tpr*(1-fpr)), \"for threshold\", np.round(t,3))\n",
    "    return t\n",
    "\n",
    "def predict_with_best_t(proba, threshould):\n",
    "    predictions = []\n",
    "    for i in proba:\n",
    "        if i>=threshould:\n",
    "            predictions.append(1)\n",
    "        else:\n",
    "            predictions.append(0)\n",
    "    return predictions"
   ]
  },
  {
   "cell_type": "markdown",
   "metadata": {},
   "source": [
    "## Hyperparameter tuning for Logistic Regression"
   ]
  },
  {
   "cell_type": "code",
   "execution_count": 34,
   "metadata": {
    "colab": {
     "base_uri": "https://localhost:8080/",
     "height": 294
    },
    "id": "0v-THugKpZfy",
    "outputId": "3a4897c0-7875-4169-850f-8275aeffcc53"
   },
   "outputs": [
    {
     "data": {
      "image/png": "[encoded data removed]",
      "text/plain": [
       "<Figure size 432x288 with 1 Axes>"
      ]
     },
     "metadata": {
      "needs_background": "light",
      "tags": []
     },
     "output_type": "display_data"
    }
   ],
   "source": [
    "tuned_parameters = [{'C': [0.01]}]\n",
    "model_best = GridSearchCV(LogisticRegression(), tuned_parameters, scoring = 'f1', cv=3)\n",
    "model_best.fit(x_train, y_train)\n",
    "\n",
    "\n",
    "y_train_predlr = batch_predict(model_best, x_train)    \n",
    "y_test_predlr = batch_predict(model_best, x_test)\n",
    "\n",
    "train_fprlr, train_tprlr, tr_thresholdslr = roc_curve(y_train, y_train_predlr)\n",
    "test_fprlr, test_tprlr, te_thresholdslr = roc_curve(y_test, y_test_predlr)\n",
    "\n",
    "plt.plot(train_fprlr, train_tprlr, label=\"train AUC =\"+str(auc(train_fprlr, train_tprlr)))\n",
    "plt.plot(test_fprlr, test_tprlr, label=\"test AUC =\"+str(auc(test_fprlr, test_tprlr)))\n",
    "plt.legend()\n",
    "plt.xlabel(\"False Positive Rate(FPR)\")\n",
    "plt.ylabel(\"True Positive Rate(TPR)\")\n",
    "plt.title(\"ERROR PLOTS\")\n",
    "plt.grid(color='black', linestyle='-', linewidth=0.3)\n",
    "plt.show()"
   ]
  },
  {
   "cell_type": "code",
   "execution_count": 35,
   "metadata": {
    "colab": {
     "base_uri": "https://localhost:8080/"
    },
    "id": "NjttpfH0pZfz",
    "outputId": "c494d6cb-bb94-47bb-969c-4ecd3d7c2950"
   },
   "outputs": [
    {
     "name": "stdout",
     "output_type": "stream",
     "text": [
      "0.8685209631372749\n"
     ]
    }
   ],
   "source": [
    "test_auc_lr= auc(test_fprlr, test_tprlr)\n",
    "print(test_auc_lr)"
   ]
  },
  {
   "cell_type": "markdown",
   "metadata": {},
   "source": [
    "## Confusion Matrix for Logistic Regression\n",
    "\n",
    "### Train Confusion Matrix"
   ]
  },
  {
   "cell_type": "code",
   "execution_count": 36,
   "metadata": {
    "colab": {
     "base_uri": "https://localhost:8080/",
     "height": 413
    },
    "id": "CSIjE5hcpZf1",
    "outputId": "d2fc8275-6997-482b-e0af-71b9591e0d83"
   },
   "outputs": [
    {
     "name": "stdout",
     "output_type": "stream",
     "text": [
      "the maximum value of tpr*(1-fpr) 0.5503490204629305 for threshold 0.003\n",
      "Train confusion matrix\n",
      "[[184742  24333]\n",
      " [   109    180]]\n",
      "Test confusion matrix\n",
      "[[46280  5989]\n",
      " [   26    46]]\n"
     ]
    },
    {
     "data": {
      "text/plain": [
       "<matplotlib.axes._subplots.AxesSubplot at 0x7f5b3d73f310>"
      ]
     },
     "execution_count": 36,
     "metadata": {
      "tags": []
     },
     "output_type": "execute_result"
    },
    {
     "data": {
      "image/png": "[encoded data removed]",
      "text/plain": [
       "<Figure size 432x288 with 2 Axes>"
      ]
     },
     "metadata": {
      "tags": []
     },
     "output_type": "display_data"
    }
   ],
   "source": [
    "from sklearn.metrics import confusion_matrix\n",
    "best_lr = find_best_threshold(tr_thresholdslr, train_fprlr, train_tprlr)\n",
    "print(\"Train confusion matrix\")\n",
    "print(confusion_matrix(y_train, predict_with_best_t(y_train_predlr, best_lr)))\n",
    "print(\"Test confusion matrix\")\n",
    "print(confusion_matrix(y_test, predict_with_best_t(y_test_predlr, best_lr)))\n",
    "conf_train=(confusion_matrix(y_train, predict_with_best_t(y_train_predlr, best_lr)))\n",
    "conf_test=(confusion_matrix(y_test, predict_with_best_t(y_test_predlr, best_lr)))\n",
    "\n",
    "sns.set(font_scale=1.1)#for label size\n",
    "sns.heatmap(conf_train, annot=True,annot_kws={\"size\": 20}, fmt='',xticklabels=['PREDICTED : NO', 'PREDICTED : YES'], yticklabels=['ACTUAL : NO', 'ACTUAL : YES'])"
   ]
  },
  {
   "cell_type": "markdown",
   "metadata": {},
   "source": [
    "### Test Confusion Matrix"
   ]
  },
  {
   "cell_type": "code",
   "execution_count": 37,
   "metadata": {
    "colab": {
     "base_uri": "https://localhost:8080/",
     "height": 288
    },
    "id": "LrOtX9orpZf2",
    "outputId": "bf6d1037-852b-4a1b-fa80-6ddad405d987"
   },
   "outputs": [
    {
     "data": {
      "text/plain": [
       "<matplotlib.axes._subplots.AxesSubplot at 0x7f5b3d78a550>"
      ]
     },
     "execution_count": 37,
     "metadata": {
      "tags": []
     },
     "output_type": "execute_result"
    },
    {
     "data": {
      "image/png": "[encoded data removed]",
      "text/plain": [
       "<Figure size 432x288 with 2 Axes>"
      ]
     },
     "metadata": {
      "tags": []
     },
     "output_type": "display_data"
    }
   ],
   "source": [
    "sns.heatmap(conf_test, annot=True,annot_kws={\"size\": 20}, fmt='g',xticklabels=['PREDICTED : NO', 'PREDICTED : YES'], yticklabels=['ACTUAL : NO', 'ACTUAL : YES'])"
   ]
  },
  {
   "cell_type": "markdown",
   "metadata": {},
   "source": [
    "# Model-2 Light GBM"
   ]
  },
  {
   "cell_type": "code",
   "execution_count": 38,
   "metadata": {
    "id": "O-Qj38JqpZf3"
   },
   "outputs": [],
   "source": [
    "from sklearn.model_selection import GridSearchCV\n",
    "from sklearn.ensemble import GradientBoostingClassifier\n",
    "import lightgbm as lgb\n",
    "from sklearn.metrics import roc_auc_score, auc\n",
    "\n",
    "parameters = {'learning_rate': [0.001, 0.01, 0.1, 0.2, 0.3] , 'n_estimators': [10, 50, 75, 100, 200]}\n",
    "lgb_train=lgb.Dataset(x_train,label=y_train)\n",
    "lgbm_test=lgb.Dataset(x_test,label=y_test,reference=lgb_train)\n",
    "model1=lgb.LGBMClassifier()\n",
    "\n",
    "lgbm = GridSearchCV(model1,param_grid=parameters, cv=3, scoring='roc_auc',n_jobs=10,return_train_score=True)\n",
    "lgb_clf= lgbm.fit(x_train,y_train)"
   ]
  },
  {
   "cell_type": "code",
   "execution_count": 39,
   "metadata": {
    "colab": {
     "base_uri": "https://localhost:8080/"
    },
    "id": "kaVnEz09pZf4",
    "outputId": "c372664c-062b-4a01-c8ba-b9ff29012187"
   },
   "outputs": [
    {
     "name": "stdout",
     "output_type": "stream",
     "text": [
      "LGBMClassifier(boosting_type='gbdt', class_weight=None, colsample_bytree=1.0,\n",
      "               importance_type='split', learning_rate=0.001, max_depth=-1,\n",
      "               min_child_samples=20, min_child_weight=0.001, min_split_gain=0.0,\n",
      "               n_estimators=200, n_jobs=-1, num_leaves=31, objective=None,\n",
      "               random_state=None, reg_alpha=0.0, reg_lambda=0.0, silent=True,\n",
      "               subsample=1.0, subsample_for_bin=200000, subsample_freq=0)\n",
      "0.8944907602981828\n",
      "0.8983037268744379\n",
      "{'learning_rate': 0.001, 'n_estimators': 200}\n"
     ]
    }
   ],
   "source": [
    "print(lgb_clf.best_estimator_)\n",
    "print(lgb_clf.score(x_train,y_train))\n",
    "print(lgb_clf.score(x_test,y_test))\n",
    "print(lgb_clf.best_params_)"
   ]
  },
  {
   "cell_type": "code",
   "execution_count": 40,
   "metadata": {
    "colab": {
     "base_uri": "https://localhost:8080/"
    },
    "id": "WRCvX73TpZf5",
    "outputId": "384ec9f1-0a05-448e-df61-a218281bb190"
   },
   "outputs": [
    {
     "name": "stdout",
     "output_type": "stream",
     "text": [
      "train score: [0.89624408 0.89624408 0.89624408 0.89624559 0.89624842 0.89619414\n",
      " 0.89622793 0.89622409 0.89622398 0.89622973 0.57790069 0.51160132\n",
      " 0.51160808 0.5116032  0.5116063  0.45763009 0.55035358 0.55035358\n",
      " 0.55035358 0.55035358 0.47248572 0.49633108 0.49633108 0.49633108\n",
      " 0.49633108]\n",
      "test score: [0.88502171 0.88502117 0.88502117 0.88501673 0.88502651 0.88492738\n",
      " 0.88497484 0.88479628 0.88479628 0.88469072 0.55807253 0.49697323\n",
      " 0.49686761 0.496799   0.49679407 0.45313454 0.51023688 0.51023688\n",
      " 0.51023688 0.51023688 0.48745994 0.5095109  0.5095109  0.5095109\n",
      " 0.5095109 ]\n",
      "Best Learning Rate: 0.001\n",
      "Best n_estimators: 200\n",
      "Best Score: 0.8850265107917424\n"
     ]
    }
   ],
   "source": [
    "train_score=lgb_clf.cv_results_['mean_train_score']\n",
    "test_score= lgb_clf.cv_results_['mean_test_score']\n",
    "best_lr= lgb_clf.best_params_['learning_rate']\n",
    "best_est= lgb_clf.best_params_['n_estimators']\n",
    "best_score= lgb_clf.best_score_\n",
    "best_lp= lgb_clf.best_params_\n",
    "print(\"train score:\",train_score)\n",
    "print(\"test score:\",test_score)\n",
    "print(\"Best Learning Rate:\", best_lr)\n",
    "print(\"Best n_estimators:\",best_est)\n",
    "print(\"Best Score:\",best_score)"
   ]
  },
  {
   "cell_type": "code",
   "execution_count": 41,
   "metadata": {
    "colab": {
     "base_uri": "https://localhost:8080/",
     "height": 464
    },
    "id": "XFGtWhHspZgA",
    "outputId": "ae77bc05-f791-44b8-836e-332e12e57452"
   },
   "outputs": [
    {
     "data": {
      "image/png": "[encoded data removed]",
      "text/plain": [
       "<Figure size 1728x504 with 4 Axes>"
      ]
     },
     "metadata": {
      "tags": []
     },
     "output_type": "display_data"
    }
   ],
   "source": [
    "sns.set(font_scale=1)\n",
    "max_scores1 = pd.DataFrame(lgb_clf.cv_results_).groupby(['param_learning_rate','param_n_estimators']).max().unstack()[['mean_test_score', 'mean_train_score']]\n",
    "fig, (ax1,ax2) = plt.subplots(1,2, figsize=(24,7))\n",
    "sns.heatmap(max_scores1.mean_train_score, annot = True, fmt='.3g',ax= ax1,annot_kws={\"size\": 26})\n",
    "sns.heatmap(max_scores1.mean_test_score, annot = True, fmt='.3g',ax= ax2,annot_kws={\"size\": 26})\n",
    "ax1.set_title('Train Set')\n",
    "ax2.set_title('Test Set')\n",
    "plt.show()"
   ]
  },
  {
   "cell_type": "markdown",
   "metadata": {},
   "source": [
    "## Hyper-parameter tuning for Light GBM"
   ]
  },
  {
   "cell_type": "code",
   "execution_count": 57,
   "metadata": {
    "colab": {
     "base_uri": "https://localhost:8080/",
     "height": 304
    },
    "id": "cG5HctVTpZgC",
    "outputId": "88eaa97e-a97a-42d2-af01-ba284f2715a2"
   },
   "outputs": [
    {
     "data": {
      "image/png": "[encoded data removed]",
      "text/plain": [
       "<Figure size 432x288 with 1 Axes>"
      ]
     },
     "metadata": {
      "tags": []
     },
     "output_type": "display_data"
    }
   ],
   "source": [
    "parameters = {'learning_rate':[0.001], 'n_estimators': [200]}\n",
    "#best_model = xgb.XGBClassifier(max_depth= best_depth, n_estimators=best_est,eval_metric='mlogloss')\n",
    "best_model = lgb.LGBMClassifier(n_estimators =best_est,learning_rate =best_lr)\n",
    "lgb_best = GridSearchCV(best_model, parameters, cv=5, scoring='roc_auc')\n",
    "lgb_best.fit(x_train, y_train)\n",
    "# roc_auc_score(y_true, y_score) the 2nd parameter should be probability estimates of the positive class\n",
    "# not the predicted outputs\n",
    "\n",
    "y_train_pred = batch_predict(lgb_best, x_train)    \n",
    "y_test_pred = batch_predict(lgb_best, x_test)\n",
    "\n",
    "train_fpr, train_tpr, tr_thresholds = roc_curve(y_train, y_train_pred)\n",
    "test_fpr, test_tpr, te_thresholds = roc_curve(y_test, y_test_pred)\n",
    "\n",
    "plt.plot(train_fpr, train_tpr, label=\"train AUC =\"+str(auc(train_fpr, train_tpr)))\n",
    "plt.plot(test_fpr, test_tpr, label=\"test AUC =\"+str(auc(test_fpr, test_tpr)))\n",
    "plt.legend()\n",
    "plt.xlabel(\"False Positive Rate(FPR)\")\n",
    "plt.ylabel(\"True Positive Rate(TPR)\")\n",
    "plt.title(\"ERROR PLOTS\")\n",
    "plt.grid(color='black', linestyle='-', linewidth=0.3)\n",
    "plt.show()"
   ]
  },
  {
   "cell_type": "code",
   "execution_count": 59,
   "metadata": {
    "colab": {
     "base_uri": "https://localhost:8080/"
    },
    "id": "TwnPeSnWpZgD",
    "outputId": "2aa0bc3b-9453-44ae-8f4b-e4df3fd9aae7"
   },
   "outputs": [
    {
     "name": "stdout",
     "output_type": "stream",
     "text": [
      "0.8983037268744379\n"
     ]
    }
   ],
   "source": [
    "test_auc_lgb= auc(test_fpr, test_tpr)\n",
    "print(test_auc_lgb)"
   ]
  },
  {
   "cell_type": "markdown",
   "metadata": {},
   "source": [
    "## Confusin Matrix for Light GBM\n",
    "\n",
    "### Train Confusion Matrix"
   ]
  },
  {
   "cell_type": "code",
   "execution_count": 60,
   "metadata": {
    "colab": {
     "base_uri": "https://localhost:8080/",
     "height": 413
    },
    "id": "NBdEkwqvpZgE",
    "outputId": "b8587584-aeff-48bd-90da-1d401dd5ac35"
   },
   "outputs": [
    {
     "name": "stdout",
     "output_type": "stream",
     "text": [
      "the maximum value of tpr*(1-fpr) 0.6344671102363475 for threshold 0.001\n",
      "Train confusion matrix\n",
      "[[136915  72160]\n",
      " [     9    280]]\n",
      "Test confusion matrix\n",
      "[[34276 17993]\n",
      " [    2    70]]\n"
     ]
    },
    {
     "data": {
      "text/plain": [
       "<matplotlib.axes._subplots.AxesSubplot at 0x7f5b30127a10>"
      ]
     },
     "execution_count": 60,
     "metadata": {
      "tags": []
     },
     "output_type": "execute_result"
    },
    {
     "data": {
      "image/png": "[encoded data removed]",
      "text/plain": [
       "<Figure size 432x288 with 2 Axes>"
      ]
     },
     "metadata": {
      "tags": []
     },
     "output_type": "display_data"
    }
   ],
   "source": [
    "from sklearn.metrics import confusion_matrix\n",
    "best_t = find_best_threshold(tr_thresholds, train_fpr, train_tpr)\n",
    "print(\"Train confusion matrix\")\n",
    "print(confusion_matrix(y_train, predict_with_best_t(y_train_pred, best_t)))\n",
    "print(\"Test confusion matrix\")\n",
    "print(confusion_matrix(y_test, predict_with_best_t(y_test_pred, best_t)))\n",
    "conf_train=(confusion_matrix(y_train, predict_with_best_t(y_train_pred, best_t)))\n",
    "conf_test=(confusion_matrix(y_test, predict_with_best_t(y_test_pred, best_t)))\n",
    "\n",
    "sns.set(font_scale=1.1)#for label size\n",
    "sns.heatmap(conf_train, annot=True,annot_kws={\"size\": 20}, fmt='',xticklabels=['PREDICTED : NO', 'PREDICTED : YES'], yticklabels=['ACTUAL : NO', 'ACTUAL : YES'])"
   ]
  },
  {
   "cell_type": "markdown",
   "metadata": {},
   "source": [
    "### Test Confusion Matrix"
   ]
  },
  {
   "cell_type": "code",
   "execution_count": 61,
   "metadata": {
    "colab": {
     "base_uri": "https://localhost:8080/",
     "height": 288
    },
    "id": "EgIAIPmapZgG",
    "outputId": "97c892b2-8037-4d81-9da3-9a015af2d69b"
   },
   "outputs": [
    {
     "data": {
      "text/plain": [
       "<matplotlib.axes._subplots.AxesSubplot at 0x7f5b2d957c90>"
      ]
     },
     "execution_count": 61,
     "metadata": {
      "tags": []
     },
     "output_type": "execute_result"
    },
    {
     "data": {
      "image/png": "[encoded data removed]",
      "text/plain": [
       "<Figure size 432x288 with 2 Axes>"
      ]
     },
     "metadata": {
      "tags": []
     },
     "output_type": "display_data"
    }
   ],
   "source": [
    "sns.heatmap(conf_test, annot=True,annot_kws={\"size\": 20}, fmt='g',xticklabels=['PREDICTED : NO', 'PREDICTED : YES'], yticklabels=['ACTUAL : NO', 'ACTUAL : YES'])"
   ]
  },
  {
   "cell_type": "markdown",
   "metadata": {},
   "source": [
    "# Random Forest Classifier for Feature Selection"
   ]
  },
  {
   "cell_type": "code",
   "execution_count": 56,
   "metadata": {
    "colab": {
     "base_uri": "https://localhost:8080/"
    },
    "id": "rALktcoRpZgH",
    "outputId": "4a9ca86f-8819-416a-a95a-ce27e32c5f6f"
   },
   "outputs": [
    {
     "data": {
      "text/plain": [
       "RandomizedSearchCV(cv=3, error_score=nan,\n",
       "                   estimator=RandomForestClassifier(bootstrap=True,\n",
       "                                                    ccp_alpha=0.0,\n",
       "                                                    class_weight=None,\n",
       "                                                    criterion='gini',\n",
       "                                                    max_depth=None,\n",
       "                                                    max_features='auto',\n",
       "                                                    max_leaf_nodes=None,\n",
       "                                                    max_samples=None,\n",
       "                                                    min_impurity_decrease=0.0,\n",
       "                                                    min_impurity_split=None,\n",
       "                                                    min_samples_leaf=1,\n",
       "                                                    min_samples_split=2,\n",
       "                                                    min_weight_fraction_leaf=0.0,\n",
       "                                                    n_estimators=100, n_jobs...\n",
       "                                        'min_samples_leaf': <scipy.stats._distn_infrastructure.rv_frozen object at 0x7f5b2ff4be50>,\n",
       "                                        'min_samples_split': <scipy.stats._distn_infrastructure.rv_frozen object at 0x7f5b2fc2ff10>,\n",
       "                                        'n_estimators': <scipy.stats._distn_infrastructure.rv_frozen object at 0x7f5b3013a650>},\n",
       "                   pre_dispatch='2*n_jobs', random_state=25, refit=True,\n",
       "                   return_train_score=False, scoring='f1', verbose=0)"
      ]
     },
     "execution_count": 56,
     "metadata": {
      "tags": []
     },
     "output_type": "execute_result"
    }
   ],
   "source": [
    "from sklearn.metrics import f1_score\n",
    "from sklearn.ensemble import RandomForestClassifier\n",
    "from sklearn.metrics import f1_score\n",
    "from sklearn.model_selection import RandomizedSearchCV\n",
    "from scipy.stats import randint as sp_randint\n",
    "from scipy.stats import uniform\n",
    "\n",
    "param_dist = {\"n_estimators\":sp_randint(105,125),\n",
    "              \"max_depth\": sp_randint(10,15),\n",
    "              \"min_samples_split\": sp_randint(110,190),\n",
    "              \"min_samples_leaf\": sp_randint(25,65)}\n",
    "\n",
    "clf = RandomForestClassifier(random_state=25,n_jobs=-1)\n",
    "\n",
    "rf_random = RandomizedSearchCV(clf, param_distributions=param_dist,\n",
    "                                   n_iter=5,cv=3,scoring='f1',random_state=25)\n",
    "\n",
    "rf_random.fit(x_train,y_train)"
   ]
  },
  {
   "cell_type": "code",
   "execution_count": 47,
   "metadata": {
    "colab": {
     "base_uri": "https://localhost:8080/"
    },
    "id": "QDULQLqBpZgJ",
    "outputId": "f2cf4211-fdbe-407b-bc84-65cf39301c48"
   },
   "outputs": [
    {
     "name": "stdout",
     "output_type": "stream",
     "text": [
      "RandomForestClassifier(bootstrap=True, ccp_alpha=0.0, class_weight=None,\n",
      "                       criterion='gini', max_depth=14, max_features='auto',\n",
      "                       max_leaf_nodes=None, max_samples=None,\n",
      "                       min_impurity_decrease=0.0, min_impurity_split=None,\n",
      "                       min_samples_leaf=28, min_samples_split=111,\n",
      "                       min_weight_fraction_leaf=0.0, n_estimators=121,\n",
      "                       n_jobs=-1, oob_score=False, random_state=25, verbose=0,\n",
      "                       warm_start=False)\n"
     ]
    }
   ],
   "source": [
    "print(rf_random.best_estimator_)"
   ]
  },
  {
   "cell_type": "code",
   "execution_count": 48,
   "metadata": {
    "id": "dFrRqn7DpZgK"
   },
   "outputs": [],
   "source": [
    "rf_clf = RandomForestClassifier(bootstrap=True, class_weight=None, criterion='gini',\n",
    "            max_depth=14, max_features='auto', max_leaf_nodes=None,\n",
    "            min_impurity_decrease=0.0, min_impurity_split=None,\n",
    "            min_samples_leaf=51, min_samples_split=125,\n",
    "            min_weight_fraction_leaf=0.0, n_estimators=117, n_jobs=-1,\n",
    "            oob_score=False, random_state=25, verbose=0, warm_start=False)"
   ]
  },
  {
   "cell_type": "code",
   "execution_count": 49,
   "metadata": {
    "id": "EiprVRgOpZgK"
   },
   "outputs": [],
   "source": [
    "clf.fit(x_train,y_train)\n",
    "y_train_pred = clf.predict(x_train)\n",
    "y_test_pred = clf.predict(x_test)"
   ]
  },
  {
   "cell_type": "code",
   "execution_count": 50,
   "metadata": {
    "colab": {
     "base_uri": "https://localhost:8080/"
    },
    "id": "3geXYzlmpZgL",
    "outputId": "dd93afa4-f86f-4306-c2d8-208fc2d8d3a5"
   },
   "outputs": [
    {
     "name": "stdout",
     "output_type": "stream",
     "text": [
      "Train f1 score 0.5330396475770924\n",
      "Test f1 score 0.5945945945945945\n"
     ]
    }
   ],
   "source": [
    "print('Train f1 score',f1_score(y_train,y_train_pred))\n",
    "print('Test f1 score',f1_score(y_test,y_test_pred))"
   ]
  },
  {
   "cell_type": "code",
   "execution_count": 51,
   "metadata": {
    "id": "DKpt5_h9pZgN"
   },
   "outputs": [],
   "source": [
    "from sklearn.metrics import confusion_matrix\n",
    "def plot_confusion_matrix(test_y, predict_y):\n",
    "    C = confusion_matrix(test_y, predict_y)\n",
    "    \n",
    "    A =(((C.T)/(C.sum(axis=1))).T)\n",
    "    \n",
    "    B =(C/C.sum(axis=0))\n",
    "    plt.figure(figsize=(20,4))\n",
    "    \n",
    "    labels = [0,1]\n",
    "    # representing A in heatmap format\n",
    "    cmap=sns.light_palette(\"blue\")\n",
    "    plt.subplot(1, 3, 1)\n",
    "    sns.heatmap(C, annot=True, cmap=cmap, fmt=\".3f\", xticklabels=labels, yticklabels=labels)\n",
    "    plt.xlabel('Predicted Class')\n",
    "    plt.ylabel('Original Class')\n",
    "    plt.title(\"Confusion matrix\")\n",
    "    \n",
    "    plt.subplot(1, 3, 2)\n",
    "    sns.heatmap(B, annot=True, cmap=cmap, fmt=\".3f\", xticklabels=labels, yticklabels=labels)\n",
    "    plt.xlabel('Predicted Class')\n",
    "    plt.ylabel('Original Class')\n",
    "    plt.title(\"Precision matrix\")\n",
    "    \n",
    "    plt.subplot(1, 3, 3)\n",
    "    # representing B in heatmap format\n",
    "    sns.heatmap(A, annot=True, cmap=cmap, fmt=\".3f\", xticklabels=labels, yticklabels=labels)\n",
    "    plt.xlabel('Predicted Class')\n",
    "    plt.ylabel('Original Class')\n",
    "    plt.title(\"Recall matrix\")\n",
    "    \n",
    "    plt.show()"
   ]
  },
  {
   "cell_type": "markdown",
   "metadata": {},
   "source": [
    "## Confusion-matrix, Precision-matrix, Recall-matrix of Random Forest Classifier"
   ]
  },
  {
   "cell_type": "code",
   "execution_count": 52,
   "metadata": {
    "colab": {
     "base_uri": "https://localhost:8080/",
     "height": 626
    },
    "id": "NvQfXzjMpZgW",
    "outputId": "84bac859-07a3-486b-ef3e-d764a14e12ce"
   },
   "outputs": [
    {
     "name": "stdout",
     "output_type": "stream",
     "text": [
      "Train confusion_matrix\n"
     ]
    },
    {
     "data": {
      "image/png": "[encoded data removed]",
      "text/plain": [
       "<Figure size 1440x288 with 6 Axes>"
      ]
     },
     "metadata": {
      "tags": []
     },
     "output_type": "display_data"
    },
    {
     "name": "stdout",
     "output_type": "stream",
     "text": [
      "Test confusion_matrix\n"
     ]
    },
    {
     "data": {
      "image/png": "[encoded data removed]",
      "text/plain": [
       "<Figure size 1440x288 with 6 Axes>"
      ]
     },
     "metadata": {
      "tags": []
     },
     "output_type": "display_data"
    }
   ],
   "source": [
    "print('Train confusion_matrix')\n",
    "plot_confusion_matrix(y_train,y_train_pred)\n",
    "print('Test confusion_matrix')\n",
    "plot_confusion_matrix(y_test,y_test_pred)"
   ]
  },
  {
   "cell_type": "code",
   "execution_count": 53,
   "metadata": {
    "colab": {
     "base_uri": "https://localhost:8080/",
     "height": 304
    },
    "id": "20ov47KupZgX",
    "outputId": "bc743cb9-c125-4fb0-c869-f5b970b8348c"
   },
   "outputs": [
    {
     "data": {
      "image/png": "[encoded data removed]",
      "text/plain": [
       "<Figure size 432x288 with 1 Axes>"
      ]
     },
     "metadata": {
      "tags": []
     },
     "output_type": "display_data"
    }
   ],
   "source": [
    "from sklearn.metrics import roc_curve, auc\n",
    "fpr,tpr,ths = roc_curve(y_test,y_test_pred)\n",
    "auc_sc = auc(fpr, tpr)\n",
    "plt.plot(fpr, tpr, color='navy',label='ROC curve (area = %0.2f)' % auc_sc)\n",
    "plt.xlabel('False Positive Rate')\n",
    "plt.ylabel('True Positive Rate')\n",
    "plt.title('Receiver operating characteristic with test data')\n",
    "plt.legend()\n",
    "plt.show()"
   ]
  },
  {
   "cell_type": "markdown",
   "metadata": {},
   "source": [
    "## Feature Importance"
   ]
  },
  {
   "cell_type": "code",
   "execution_count": 54,
   "metadata": {
    "colab": {
     "base_uri": "https://localhost:8080/",
     "height": 738
    },
    "id": "lfM4_ycvpZgh",
    "outputId": "e5cb635b-dce5-4b22-96a2-68124ee52994"
   },
   "outputs": [
    {
     "data": {
      "image/png": "[encoded data removed]",
      "text/plain": [
       "<Figure size 720x864 with 1 Axes>"
      ]
     },
     "metadata": {
      "tags": []
     },
     "output_type": "display_data"
    }
   ],
   "source": [
    "features = data.columns\n",
    "importances = clf.feature_importances_\n",
    "indices = (np.argsort(importances))[-7:]\n",
    "plt.figure(figsize=(10,12))\n",
    "plt.title('Feature Importances')\n",
    "plt.barh(range(len(indices)), importances[indices], color='r', align='center')\n",
    "plt.yticks(range(len(indices)), [features[i] for i in indices])\n",
    "plt.xlabel('Relative Importance')\n",
    "plt.show()"
   ]
  },
  {
   "cell_type": "markdown",
   "metadata": {},
   "source": [
    "# Observation and Conclusion"
   ]
  },
  {
   "cell_type": "code",
   "execution_count": 62,
   "metadata": {
    "colab": {
     "base_uri": "https://localhost:8080/"
    },
    "id": "1A_Hly2GpZgi",
    "outputId": "d5309a23-e424-4433-ea72-e3e5a64d167d"
   },
   "outputs": [
    {
     "name": "stdout",
     "output_type": "stream",
     "text": [
      "+---------------------+-----------------------------------------------+--------------------+\n",
      "|        Model        |                Hyper-parameter                |        AUC         |\n",
      "+---------------------+-----------------------------------------------+--------------------+\n",
      "| Logistic-Regression |                  {'C': 0.01}                  | 0.8685209631372749 |\n",
      "|       LightGBM      | {'learning_rate': 0.001, 'n_estimators': 200} | 0.8983037268744379 |\n",
      "+---------------------+-----------------------------------------------+--------------------+\n"
     ]
    }
   ],
   "source": [
    "from prettytable import PrettyTable\n",
    "p= PrettyTable()\n",
    "p.field_names=['Model','Hyper-parameter','AUC']\n",
    "p.add_row(['Logistic-Regression',best_p,test_auc_lr])\n",
    "p.add_row(['LightGBM',best_lp,test_auc_lgb])\n",
    "print(p)"
   ]
  },
  {
   "cell_type": "markdown",
   "metadata": {
    "id": "Vk6EShXSpZgj"
   },
   "source": [
    "### -As it is been observe that AUC score for Logistic Regression is 0.868, where as AUC score for Light GBM is 0.898.\n",
    "### -There is not much difference in AUC score between them.\n",
    "### - But if we observe Confusion matrix of both Model then:\n",
    "\n",
    "### 1) Logistic Regression:\n",
    "#### (a) Train- TP = 180 and FN = 109\n",
    "#### (b) Test- TP = 46 and FN = 26\n",
    "\n",
    "### 2) Light GBM:\n",
    "#### (a) Train- TP = 280 and FN = 9\n",
    "#### (b) Test- TP = 70 and FN = 2\n",
    "\n",
    "### Though both model have very similar AUC score but the mistake factors of Light GBM model is way lesser than the Logistic Regression model. "
   ]
  }
 ],
 "metadata": {
  "colab": {
   "name": "Fraud Detection.ipynb",
   "provenance": []
  },
  "kernelspec": {
   "display_name": "Python 3",
   "language": "python",
   "name": "python3"
  },
  "language_info": {
   "codemirror_mode": {
    "name": "ipython",
    "version": 3
   },
   "file_extension": ".py",
   "mimetype": "text/x-python",
   "name": "python",
   "nbconvert_exporter": "python",
   "pygments_lexer": "ipython3",
   "version": "3.7.4"
  }
 },
 "nbformat": 4,
 "nbformat_minor": 1
}
